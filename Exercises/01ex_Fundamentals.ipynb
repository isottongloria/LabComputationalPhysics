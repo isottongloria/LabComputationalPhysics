{
 "cells": [
  {
   "cell_type": "markdown",
   "metadata": {},
   "source": [
    "0. Implement a function (whatever you want) and save it to a file (e.g. function.py). Import that file and use that function in this notebook."
   ]
  },
  {
   "cell_type": "code",
   "execution_count": 1,
   "metadata": {},
   "outputs": [
    {
     "data": {
      "text/plain": [
       "False"
      ]
     },
     "execution_count": 1,
     "metadata": {},
     "output_type": "execute_result"
    }
   ],
   "source": [
    "from function import is_even\n",
    "is_even(5)"
   ]
  },
  {
   "cell_type": "markdown",
   "metadata": {},
   "source": [
    "1. Write the following as a list comprehension\n"
   ]
  },
  {
   "cell_type": "code",
   "execution_count": 1,
   "metadata": {},
   "outputs": [
    {
     "name": "stdout",
     "output_type": "stream",
     "text": [
      "[(0, 0), (0, 1), (0, 2), (0, 3), (1, 0), (1, 1), (1, 2), (1, 3), (2, 0), (2, 1), (2, 2), (2, 3)]\n",
      "[0, 4, 16]\n"
     ]
    }
   ],
   "source": [
    "# 1\n",
    "#lista_uno = [i for i in range(3)]\n",
    "#lista_due = [i for i in range(4)]\n",
    "#mix = [(x, y) for x in lista_uno for y in lista_due if x != y]\n",
    "#print(mix)\n",
    "\n",
    "#1\n",
    "lista=[(i,j) for i in range(3) for j in range(4)]\n",
    "print(lista)\n",
    "\n",
    "# 2\n",
    "print([i*i for i in range(5) if i%2 == 0])"
   ]
  },
  {
   "cell_type": "markdown",
   "metadata": {},
   "source": [
    "2. Convert the following function into a pure function with no global variables or side effects"
   ]
  },
  {
   "cell_type": "code",
   "execution_count": 4,
   "metadata": {},
   "outputs": [
    {
     "name": "stdout",
     "output_type": "stream",
     "text": [
      "[1, 2, 3, 0, 1, 2, 3, 4]\n",
      "[1, 2, 3, 0, 1, 2, 3, 4]\n"
     ]
    }
   ],
   "source": [
    "x = 5\n",
    "def f(alist):\n",
    "    for i in range(x):\n",
    "         alist.append(i)\n",
    "    return alist\n",
    "\n",
    "alist = [1,2,3]\n",
    "ans = f(alist)\n",
    "print (ans)\n",
    "print (alist) # alist has been changed!"
   ]
  },
  {
   "cell_type": "code",
   "execution_count": 6,
   "metadata": {},
   "outputs": [
    {
     "name": "stdout",
     "output_type": "stream",
     "text": [
      "Inserisci una variabile intera: 6\n",
      "[1, 2, 3, 0, 1, 2, 3, 4, 5]\n",
      "[1, 2, 3, 0, 1, 2, 3, 4, 5]\n"
     ]
    }
   ],
   "source": [
    "alist = [1,2,3]\n",
    "list_temp=[]\n",
    "list_temp.extend(alist)  #or, simpler list_temp=alist\n",
    "\n",
    "def f(list_temp,a):\n",
    "    for i in range(int(a)):\n",
    "            list_temp.append(i)\n",
    "    return list_temp\n",
    "\n",
    "x =input('Inserisci una variabile intera: ')\n",
    "ans = f(list_temp,x)\n",
    "print (ans)\n",
    "print (alist) "
   ]
  },
  {
   "cell_type": "markdown",
   "metadata": {},
   "source": [
    " Write a decorator hello that makes every wrapped function print “Hello!”, i.e. something like:"
   ]
  },
  {
   "cell_type": "code",
   "execution_count": 7,
   "metadata": {},
   "outputs": [
    {
     "name": "stdout",
     "output_type": "stream",
     "text": [
      "25\n",
      "Hello\n"
     ]
    }
   ],
   "source": [
    "def hello_decorator(function):\n",
    "    def wrapper(*args, **kwargs):\n",
    "        function(*args, **kwargs)\n",
    "        print(\"Hello\")\n",
    "        \n",
    "    return wrapper\n",
    "\n",
    "@hello_decorator\n",
    "def square(x):\n",
    "    print(x*x)\n",
    "    return x*x\n",
    "\n",
    "square(5)"
   ]
  },
  {
   "cell_type": "markdown",
   "metadata": {},
   "source": [
    "4. Write the factorial function so that it a) does and b) does not use recursion.\n"
   ]
  },
  {
   "cell_type": "code",
   "execution_count": 41,
   "metadata": {},
   "outputs": [
    {
     "name": "stdout",
     "output_type": "stream",
     "text": [
      "insert number4\n",
      "The factorial of 4 is 24\n"
     ]
    }
   ],
   "source": [
    "def factorial(x):\n",
    "    \"\"\"This is a recursive function\n",
    "    to find the factorial of an integer\"\"\"\n",
    "\n",
    "    if x == 1 or x == 0:\n",
    "        return 1\n",
    "    else:\n",
    "        return (x * factorial(x-1))\n",
    "\n",
    "\n",
    "num = input(\"insert number\")\n",
    "print(\"The factorial of\", num, \"is\", factorial(int(num)))"
   ]
  },
  {
   "cell_type": "code",
   "execution_count": 38,
   "metadata": {},
   "outputs": [
    {
     "name": "stdout",
     "output_type": "stream",
     "text": [
      "insert number3\n",
      "The factorial of 3 is 6\n"
     ]
    }
   ],
   "source": [
    "def factorial(x):\n",
    "    \"\"\"This is a not recursive function\n",
    "    to find the factorial of an integer\"\"\"\n",
    "    fact=1\n",
    "    if x == 1:\n",
    "        return 1\n",
    "    else:\n",
    "        for i in range(1,x + 1):\n",
    "            fact = fact*i\n",
    "        return fact\n",
    "\n",
    "\n",
    "num = input(\"insert number\")\n",
    "print(\"The factorial of\", num, \"is\", factorial(int(num)))"
   ]
  },
  {
   "cell_type": "code",
   "execution_count": 29,
   "metadata": {},
   "outputs": [
    {
     "name": "stdout",
     "output_type": "stream",
     "text": [
      "2 1\n",
      "3 2\n",
      "4 6\n",
      "5 24\n",
      "6 120\n",
      "The factorial of 5 is 720\n"
     ]
    }
   ],
   "source": [
    "def factorial(x):\n",
    "    M=1\n",
    "    if x == 1 or x==0:\n",
    "        return 1\n",
    "    else:\n",
    "        for i in range(2,x+2):\n",
    "            print(i,M)\n",
    "            M=M*i\n",
    "        return M\n",
    "\n",
    "print(\"The factorial of\", 5, \"is\", factorial(5))"
   ]
  },
  {
   "cell_type": "markdown",
   "metadata": {},
   "source": [
    "5\\. Use HOFs (zip in particular) to compute the weight of a circle, a disk and a sphere, assuming different radii and different densities:\n",
    "\n",
    "```python\n",
    "densities = {\"Al\":[0.5,1,2],\"Fe\":[3,4,5],\"Pb\": [15,20,30]}\n",
    "radii = [1,2,3]\n",
    "```\n",
    "\n",
    "where the entries of the dictionary's values are the linear, superficial and volumetric densities of the materials respectively.\n",
    "\n",
    "In particular define a list of three lambda functions using a comprehension that computes the circumference, the area and the volume for a given radius.\n"
   ]
  },
  {
   "cell_type": "code",
   "execution_count": 19,
   "metadata": {},
   "outputs": [
    {
     "name": "stdout",
     "output_type": "stream",
     "text": [
      "Type the name of the element Al\n",
      "Weight of the circle for values of radius equals to\n",
      "1 -> 3.141592653589793\n",
      "2 -> 6.283185307179586\n",
      "3 -> 9.42477796076938\n",
      "Weight of the disk for values of radius equals to\n",
      "1 -> 3.141592653589793\n",
      "2 -> 12.566370614359172\n",
      "3 -> 28.274333882308138\n",
      "Weight of the sphere for values of radius equals to\n",
      "1 -> 8.377580409572781\n",
      "2 -> 67.02064327658225\n",
      "3 -> 226.1946710584651\n"
     ]
    }
   ],
   "source": [
    "import math # Import math Library\n",
    "\n",
    "densities = {\"Al\":[0.5,1,2],\"Fe\":[3,4,5],\"Pb\": [15,20,30]}\n",
    "radii = [1,2,3]\n",
    "\n",
    "funcs = [lambda r,d: 2*math.pi*r*d, lambda r,d: math.pi*r*r*d, lambda r,d: 4*math.pi*r*r*r*d/3] # Defining lambda functions\n",
    "\n",
    "el = input(\"Type the name of the element \") # Taking the element as input: Al, Fe and Pb\n",
    "\n",
    "for i in range(len(funcs)):\n",
    "    if i==0: print(\"Weight of the circle for values of radius equals to\")\n",
    "    elif i==1: print(\"Weight of the disk for values of radius equals to\")\n",
    "    else: print(\"Weight of the sphere for values of radius equals to\")\n",
    "    d = densities[el][i]\n",
    "    for r in radii:\n",
    "        print (r, \"->\", funcs[i](r,d))"
   ]
  },
  {
   "cell_type": "markdown",
   "metadata": {},
   "source": [
    "6\\. Edit the class defintion to add an instance attribute of is_hungry = True to the Dog class. Then add a method called eat() which changes the value of is_hungry to False when called. Figure out the best way to feed each dog and then output “My dogs are hungry.” if all are hungry or “My dogs are not hungry.” if all are not hungry. The final output should look like this:\n",
    "\n",
    "`I have 3 dogs. \n",
    "Tom is 6. \n",
    "Fletcher is 7. \n",
    "Larry is 9. \n",
    "And they're all mammals, of course. \n",
    "My dogs are not hungry.\n",
    "`\n",
    "\n",
    "```python\n",
    "# Parent class\n",
    "class Dog:\n",
    "\n",
    "    # Class attribute\n",
    "    species = 'mammal'\n",
    "\n",
    "    # Initializer / Instance attributes\n",
    "    def __init__(self, name, age):\n",
    "        self.name = name\n",
    "        self.age = age\n",
    "\n",
    "    # instance method\n",
    "    def description(self):\n",
    "        return \"{} is {} years old\".format(self.name, self.age)\n",
    "\n",
    "    # instance method\n",
    "    def speak(self, sound):\n",
    "        return \"{} says {}\".format(self.name, sound)\n",
    "\n",
    "# Child class (inherits from Dog class)\n",
    "class RussellTerrier(Dog):\n",
    "    def run(self, speed):\n",
    "        return \"{} runs {}\".format(self.name, speed)\n",
    "\n",
    "# Child class (inherits from Dog class)\n",
    "class Bulldog(Dog):\n",
    "    def run(self, speed):\n",
    "        return \"{} runs {}\".format(self.name, speed)\n",
    "```"
   ]
  },
  {
   "cell_type": "code",
   "execution_count": 103,
   "metadata": {},
   "outputs": [
    {
     "name": "stdout",
     "output_type": "stream",
     "text": [
      "Tom is 6 .\n",
      "Fletcher is 7 .\n",
      "Larry is 9 .\n",
      "They are all mammal s of course.\n",
      "My dogs are hungry\n",
      "My dogs are not hungry\n"
     ]
    }
   ],
   "source": [
    "# Parent class\n",
    "class Dog:\n",
    "\n",
    "    # Class attribute\n",
    "    species = 'mammal'\n",
    "\n",
    "    # Initializer / Instance attributes\n",
    "    def __init__(self, name, age):\n",
    "        self.name = name\n",
    "        self.age = age\n",
    "        self.is_hungry = True                    # ###add an instance attribute of is_hungry = True to the Dog clas\n",
    "\n",
    "    # instance method\n",
    "    def description(self):\n",
    "        return \"{} is {} years old \".format(self.name, self.age)\n",
    "\n",
    "    # instance method\n",
    "    def speak(self, sound):\n",
    "        return \"{} says {}\".format(self.name, sound)\n",
    "\n",
    "    def eat(self):\n",
    "        self.is_hungry = False                 ####when a dog eat, it is no hungry\n",
    "\n",
    "        \n",
    "        \n",
    "info = [Dog(\"Tom\", 6), Dog(\"Fletcher\", 7), Dog(\"Larry\", 9)] # Defining elements\n",
    "\n",
    "for i in range(len(info)): print(info[i].name, \"is\", info[i].age, \".\") \n",
    "print(\"They are all\", Dog.species, \"s of course.\")\n",
    "\n",
    "def hunger_state(info): # Defining hunger\n",
    "    hunger=[info[i].is_hungry for i in range(len(info))]\n",
    "    if hunger==[1,1,1]:\n",
    "          print(\"My dogs are hungry\")\n",
    "    elif hunger==[0,0,0]:\n",
    "          print(\"My dogs are not hungry\")     \n",
    "    del hunger\n",
    "   \n",
    "def feed(info):\n",
    "    for i in range(len(info)):\n",
    "        info[i].is_hungry=False\n",
    "\n",
    "hunger_state(info) \n",
    "feed(info)\n",
    "hunger_state(info)"
   ]
  },
  {
   "cell_type": "code",
   "execution_count": null,
   "metadata": {},
   "outputs": [],
   "source": []
  }
 ],
 "metadata": {
  "kernelspec": {
   "display_name": "Python 3",
   "language": "python",
   "name": "python3"
  },
  "language_info": {
   "codemirror_mode": {
    "name": "ipython",
    "version": 3
   },
   "file_extension": ".py",
   "mimetype": "text/x-python",
   "name": "python",
   "nbconvert_exporter": "python",
   "pygments_lexer": "ipython3",
   "version": "3.8.3"
  }
 },
 "nbformat": 4,
 "nbformat_minor": 4
}
