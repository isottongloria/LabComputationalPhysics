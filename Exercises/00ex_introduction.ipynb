{
 "cells": [
  {
   "cell_type": "markdown",
   "metadata": {},
   "source": [
    "1. The MickeyMouse problem\n",
    "\n",
    "a) Write a program that prints the numbers from 1 to 100. But for multiples of 3 print `Mickey` instead of the corresponding number and for the multiples of 5 print `Mouse`. For numbers which are multiples of both three and five print `MickeyMouse`\n",
    "\n",
    "b) Put the result in a tuple and substitute `Mickey` with `Donald` and `Mouse` with `Duck`"
   ]
  },
  {
   "cell_type": "code",
   "execution_count": 2,
   "metadata": {},
   "outputs": [
    {
     "name": "stdout",
     "output_type": "stream",
     "text": [
      "1\n",
      "2\n",
      "Mickey\n",
      "4\n",
      "Mouse\n",
      "Mickey\n",
      "7\n",
      "8\n",
      "Mickey\n",
      "Mouse\n",
      "11\n",
      "Mickey\n",
      "13\n",
      "14\n",
      "MickeyMouse\n",
      "16\n",
      "17\n",
      "Mickey\n",
      "19\n",
      "Mouse\n",
      "Mickey\n",
      "22\n",
      "23\n",
      "Mickey\n",
      "Mouse\n",
      "26\n",
      "Mickey\n",
      "28\n",
      "29\n",
      "MickeyMouse\n",
      "31\n",
      "32\n",
      "Mickey\n",
      "34\n",
      "Mouse\n",
      "Mickey\n",
      "37\n",
      "38\n",
      "Mickey\n",
      "Mouse\n",
      "41\n",
      "Mickey\n",
      "43\n",
      "44\n",
      "MickeyMouse\n",
      "46\n",
      "47\n",
      "Mickey\n",
      "49\n",
      "Mouse\n",
      "Mickey\n",
      "52\n",
      "53\n",
      "Mickey\n",
      "Mouse\n",
      "56\n",
      "Mickey\n",
      "58\n",
      "59\n",
      "MickeyMouse\n",
      "61\n",
      "62\n",
      "Mickey\n",
      "64\n",
      "Mouse\n",
      "Mickey\n",
      "67\n",
      "68\n",
      "Mickey\n",
      "Mouse\n",
      "71\n",
      "Mickey\n",
      "73\n",
      "74\n",
      "MickeyMouse\n",
      "76\n",
      "77\n",
      "Mickey\n",
      "79\n",
      "Mouse\n",
      "Mickey\n",
      "82\n",
      "83\n",
      "Mickey\n",
      "Mouse\n",
      "86\n",
      "Mickey\n",
      "88\n",
      "89\n",
      "MickeyMouse\n",
      "91\n",
      "92\n",
      "Mickey\n",
      "94\n",
      "Mouse\n",
      "Mickey\n",
      "97\n",
      "98\n",
      "Mickey\n",
      "Mouse\n",
      "[1, 2, 'Mickey', 4, 'Mouse', 'Mickey', 7, 8, 'Mickey', 'Mouse', 11, 'Mickey', 13, 14, 'MickeyMouse', 16, 17, 'Mickey', 19, 'Mouse', 'Mickey', 22, 23, 'Mickey', 'Mouse', 26, 'Mickey', 28, 29, 'MickeyMouse', 31, 32, 'Mickey', 34, 'Mouse', 'Mickey', 37, 38, 'Mickey', 'Mouse', 41, 'Mickey', 43, 44, 'MickeyMouse', 46, 47, 'Mickey', 49, 'Mouse', 'Mickey', 52, 53, 'Mickey', 'Mouse', 56, 'Mickey', 58, 59, 'MickeyMouse', 61, 62, 'Mickey', 64, 'Mouse', 'Mickey', 67, 68, 'Mickey', 'Mouse', 71, 'Mickey', 73, 74, 'MickeyMouse', 76, 77, 'Mickey', 79, 'Mouse', 'Mickey', 82, 83, 'Mickey', 'Mouse', 86, 'Mickey', 88, 89, 'MickeyMouse', 91, 92, 'Mickey', 94, 'Mouse', 'Mickey', 97, 98, 'Mickey', 'Mouse']\n",
      "[1, 2, 'Donald', 4, 'Duck', 'Donald', 7, 8, 'Donald', 'Duck', 11, 'Donald', 13, 14, 'DonaldDuck', 16, 17, 'Donald', 19, 'Duck', 'Donald', 22, 23, 'Donald', 'Duck', 26, 'Donald', 28, 29, 'DonaldDuck', 31, 32, 'Donald', 34, 'Duck', 'Donald', 37, 38, 'Donald', 'Duck', 41, 'Donald', 43, 44, 'DonaldDuck', 46, 47, 'Donald', 49, 'Duck', 'Donald', 52, 53, 'Donald', 'Duck', 56, 'Donald', 58, 59, 'DonaldDuck', 61, 62, 'Donald', 64, 'Duck', 'Donald', 67, 68, 'Donald', 'Duck', 71, 'Donald', 73, 74, 'DonaldDuck', 76, 77, 'Donald', 79, 'Duck', 'Donald', 82, 83, 'Donald', 'Duck', 86, 'Donald', 88, 89, 'DonaldDuck', 91, 92, 'Donald', 94, 'Duck', 'Donald', 97, 98, 'Donald', 'Duck']\n"
     ]
    }
   ],
   "source": [
    "#a\n",
    "b=[]\n",
    "for a in range(1,101): \n",
    "    if a%5==0 and a%3==0:\n",
    "         print(\"MickeyMouse\")\n",
    "         b.append(\"MickeyMouse\")\n",
    "    elif a%3 == 0: \n",
    "        print(\"Mickey\") \n",
    "        b.append(\"Mickey\")\n",
    "    elif a%5== 0:\n",
    "        print(\"Mouse\")\n",
    "        b.append(\"Mouse\")\n",
    "    \n",
    "    else:\n",
    "        print (a)\n",
    "        b.append(a)\n",
    "        \n",
    "t=(b)\n",
    "print(t)\n",
    "\n",
    "#b\n",
    "c=b\n",
    "for x in range(0,100):\n",
    "    if c[x]==\"MickeyMouse\":\n",
    "        c[x]=\"DonaldDuck\"     \n",
    "    if c[x]==\"Mickey\":\n",
    "        c[x]=\"Donald\"  \n",
    "    if c[x]==\"Mouse\":\n",
    "        c[x]=\"Duck\" \n",
    "        \n",
    "print(c)       "
   ]
  },
  {
   "cell_type": "markdown",
   "metadata": {},
   "source": [
    "2\\. The swap function\n",
    "\n",
    "Write a function that swap the values of two input variables x and y (whatever the type). Try to do that also without a temporary variable"
   ]
  },
  {
   "cell_type": "code",
   "execution_count": 15,
   "metadata": {},
   "outputs": [
    {
     "name": "stdout",
     "output_type": "stream",
     "text": [
      "Inserisci una variabile: 4\n",
      "Inserisci una variabile: 2\n",
      "2\n",
      "4\n",
      "Inserisci una variabile: 6\n",
      "Inserisci una variabile: 55\n",
      "55\n",
      "6\n"
     ]
    }
   ],
   "source": [
    "#metodo1\n",
    "x=input('Inserisci una variabile: ')\n",
    "y=input('Inserisci una variabile: ')\n",
    "def swap_function(x,y):\n",
    "    temp=x\n",
    "    x=y\n",
    "    y=temp\n",
    "    print(x)\n",
    "    print(y)\n",
    "    return \n",
    "\n",
    "swap_function(x,y)\n",
    "\n",
    "#metodo 2\n",
    "x=input('Inserisci una variabile: ')\n",
    "y=input('Inserisci una variabile: ')\n",
    "lista=[x,y]\n",
    "def swap_function2(x,y):\n",
    "    x=lista[1]\n",
    "    y=lista[0]\n",
    "    print(x)\n",
    "    print(y)\n",
    "    return\n",
    "\n",
    "swap_function2(x,y)\n",
    "\n"
   ]
  },
  {
   "cell_type": "code",
   "execution_count": null,
   "metadata": {},
   "outputs": [],
   "source": [
    "def swap1(x, y):\n",
    "    x,y=y,x\n",
    "    return(x,y)\n",
    "\n"
   ]
  },
  {
   "cell_type": "markdown",
   "metadata": {},
   "source": [
    "3\\. Computing the distance\n",
    "\n",
    "Write a function that calculates and returns the euclidean distance between two points *u* and *v*, where *u* and *v* are both 2-tuples *(x,y)*. For example, if *u=(3,0)* and *v=(0,4)*, the function should return 5"
   ]
  },
  {
   "cell_type": "code",
   "execution_count": 14,
   "metadata": {},
   "outputs": [
    {
     "name": "stdout",
     "output_type": "stream",
     "text": [
      "Inserisci un numero: 5\n",
      "Inserisci un numero: 5\n",
      "Inserisci un numero: 5\n",
      "Inserisci un numero: 4\n",
      "('5', '5') ('5', '4')\n"
     ]
    },
    {
     "data": {
      "text/plain": [
       "1.0"
      ]
     },
     "execution_count": 14,
     "metadata": {},
     "output_type": "execute_result"
    }
   ],
   "source": [
    "#a\n",
    "x1=input('Inserisci un numero: ')\n",
    "y1=input('Inserisci un numero: ')\n",
    "x2=input('Inserisci un numero: ')\n",
    "y2=input('Inserisci un numero: ')\n",
    "\n",
    "t1=(x1,y1)\n",
    "t2=(x2,y2)\n",
    "print(t1,t2)\n",
    "type(float(t1[0]))\n",
    "\n",
    "def dist_function(a,b,c,d):\n",
    "    result = pow(pow( float(t1[0]) - float(t2[0]),2) + pow( float(t1[1]) -  float(t2[1]),2),0.5)\n",
    "    return result\n",
    "dist_function(t1[0],t1[1],t2[0],t2[1])"
   ]
  },
  {
   "cell_type": "code",
   "execution_count": 1,
   "metadata": {},
   "outputs": [
    {
     "name": "stdout",
     "output_type": "stream",
     "text": [
      "5.0\n"
     ]
    }
   ],
   "source": [
    "#b\n",
    "import math\n",
    "\n",
    "def dist(u,v):\n",
    "    x = u[0] - v[0]\n",
    "    y = u[1] - v[1]\n",
    "    return(math.sqrt(x**2 + y**2))\n",
    "\n",
    "u = (3,0)\n",
    "v = (0,4)\n",
    "\n",
    "print(dist(u,v))"
   ]
  },
  {
   "cell_type": "markdown",
   "metadata": {},
   "source": [
    "### 4\\. Counting letters\n",
    "\n",
    "Write a program to calculate the number of times each character occurs in a given string *s*. Ignore differneces in capitalization"
   ]
  },
  {
   "cell_type": "code",
   "execution_count": 3,
   "metadata": {},
   "outputs": [],
   "source": [
    "string=\"Write a program that prints the numbers from 1 to 100. \\\n",
    "But for multiples of three print Mickey instead of the number and for the multiples of five print Mouse. \\\n",
    "For numbers which are multiples of both three and five print MickeyMouse\""
   ]
  },
  {
   "cell_type": "code",
   "execution_count": 13,
   "metadata": {},
   "outputs": [
    {
     "name": "stdout",
     "output_type": "stream",
     "text": [
      "writeaprogramthatprintsthenumbersfrom1to100butformultiplesofthreeprintmickeyinsteadofthenumberandforthemultiplesoffiveprintmousefornumberswhicharemultiplesofboththreeandfiveprintmickeymouse\n",
      "{('n', 10), ('y', 2), ('u', 9), ('c', 3), ('a', 7), ('v', 2), ('o', 13), ('p', 8), ('h', 9), ('k', 2), ('b', 5), ('1', 2), ('d', 3), ('i', 14), ('s', 9), ('g', 1), ('r', 17), ('0', 2), ('l', 6), ('w', 2), ('e', 22), ('m', 12), ('t', 19), ('f', 10)}\n"
     ]
    }
   ],
   "source": [
    "#modo a\n",
    "string2=string.replace(\" \", \"\").replace(\".\", \"\").lower()\n",
    "print(string2)\n",
    "myset = set()\n",
    "for element in string2:\n",
    "    y=string2.count(element.lower())\n",
    "    mylist = list([element, y])\n",
    "    myset.add(tuple(mylist))\n",
    "\n",
    "print(myset)"
   ]
  },
  {
   "cell_type": "code",
   "execution_count": 5,
   "metadata": {},
   "outputs": [
    {
     "name": "stdout",
     "output_type": "stream",
     "text": [
      "{('W', 0), ('t', 19), ('F', 0), ('l', 6), ('r', 17), ('0', 2), ('n', 10), ('m', 12), ('e', 22), ('b', 5), ('o', 13), ('w', 2), ('M', 0), ('h', 9), ('u', 9), ('1', 2), (' ', 41), ('p', 8), ('.', 2), ('f', 10), ('c', 3), ('k', 2), ('y', 2), ('d', 3), ('i', 14), ('v', 2), ('B', 0), ('g', 1), ('a', 7), ('s', 9)}\n"
     ]
    }
   ],
   "source": [
    "#modo b\n",
    "myset = set()\n",
    "for x in string:\n",
    "    myset.add((x, string.lower().count(x)))\n",
    "print(myset)"
   ]
  },
  {
   "cell_type": "markdown",
   "metadata": {},
   "source": [
    "5\\. Isolating the unique\n",
    "\n",
    "Write a function that determines and count the unique numbers in the list *l*"
   ]
  },
  {
   "cell_type": "code",
   "execution_count": 7,
   "metadata": {},
   "outputs": [],
   "source": [
    "l = [36, 45, 58, 3, 74, 96, 64, 45, 31, 10, 24, 19, 33, 86, 99, 18, 63, 70, 85,\n",
    " 85, 63, 47, 56, 42, 70, 84, 88, 55, 20, 54, 8, 56, 51, 79, 81, 57, 37, 91,\n",
    " 1, 84, 84, 36, 66, 9, 89, 50, 42, 91, 50, 95, 90, 98, 39, 16, 82, 31, 92, 41,\n",
    " 45, 30, 66, 70, 34, 85, 94, 5, 3, 36, 72, 91, 84, 34, 87, 75, 53, 51, 20, 89, 51, 20]"
   ]
  },
  {
   "cell_type": "code",
   "execution_count": 8,
   "metadata": {},
   "outputs": [
    {
     "name": "stdout",
     "output_type": "stream",
     "text": [
      "58\n",
      "74\n",
      "96\n",
      "64\n",
      "10\n",
      "24\n",
      "19\n",
      "33\n",
      "86\n",
      "99\n",
      "18\n",
      "47\n",
      "88\n",
      "55\n",
      "54\n",
      "8\n",
      "79\n",
      "81\n",
      "57\n",
      "37\n",
      "1\n",
      "9\n",
      "95\n",
      "90\n",
      "98\n",
      "39\n",
      "16\n",
      "82\n",
      "92\n",
      "41\n",
      "30\n",
      "94\n",
      "5\n",
      "72\n",
      "87\n",
      "75\n",
      "53\n",
      "i numeri non ripetuti sono:\n",
      "37\n"
     ]
    }
   ],
   "source": [
    "unique_numbers=[]\n",
    "def unique_number(l):\n",
    "    for e_list in l:\n",
    "        x=l.count(e_list)\n",
    "        if x==1:\n",
    "            print(e_list)\n",
    "            unique_numbers.append(e_list)\n",
    "unique_number(l)\n",
    "print(\"i numeri non ripetuti sono:\")\n",
    "print(len(unique_numbers))\n"
   ]
  },
  {
   "cell_type": "markdown",
   "metadata": {},
   "source": [
    "6\\. Combination of functions\n",
    "\n",
    "Write two functions - one that returns the square of a number, and one that returns the cube. Now write a third function that returns the number raised to the 6th power using the two previous functions."
   ]
  },
  {
   "cell_type": "code",
   "execution_count": 4,
   "metadata": {},
   "outputs": [
    {
     "data": {
      "text/plain": [
       "64"
      ]
     },
     "execution_count": 4,
     "metadata": {},
     "output_type": "execute_result"
    }
   ],
   "source": [
    "n=2\n",
    "def square(n):\n",
    "    return n*n\n",
    "\n",
    "def cube(n):\n",
    "    return n*n*n\n",
    "\n",
    "def sixth(n):\n",
    "    return cube(square(n))\n",
    "\n",
    "sixth(n)"
   ]
  },
  {
   "cell_type": "markdown",
   "metadata": {},
   "source": [
    "7\\. Cubes\n",
    "\n",
    "Create a list of the cubes of x for x in *[0, 10]* using:\n",
    "\n",
    "a) a for loop\n",
    "\n",
    "b) a list comprehension"
   ]
  },
  {
   "cell_type": "code",
   "execution_count": 3,
   "metadata": {},
   "outputs": [
    {
     "name": "stdout",
     "output_type": "stream",
     "text": [
      "[0, 1, 8, 27, 64, 125, 216, 343, 512, 729, 1000]\n",
      "[0, 1, 8, 27, 64, 125, 216, 343, 512, 729, 1000]\n"
     ]
    }
   ],
   "source": [
    "#metodo 1\n",
    "cubes=[] #creo una list vuota\n",
    "for x in range(0,11):\n",
    "     cubes.append(x*x*x)\n",
    "print(cubes)\n",
    "\n",
    "#metodo 2\n",
    "#lista = list( range(11))\n",
    "cubes_list = [x**3 for x in range(11)]\n",
    "print(cubes_list)"
   ]
  },
  {
   "cell_type": "markdown",
   "metadata": {},
   "source": [
    "8\\. Nested list comprehension\n",
    "\n",
    "A Pythagorean triple is an integer solution to the Pythagorean theorem $a^2+b^2=c^2$. The first Pythagorean triple is (3,4,5). Find and put in a tuple all unique Pythagorean triples for the positive integers a, b and c less than 100."
   ]
  },
  {
   "cell_type": "code",
   "execution_count": 2,
   "metadata": {},
   "outputs": [
    {
     "name": "stdout",
     "output_type": "stream",
     "text": [
      "[[4, 3, 5], [8, 6, 10], [12, 5, 13], [12, 9, 15], [15, 8, 17], [16, 12, 20], [20, 15, 25], [21, 20, 29], [24, 7, 25], [24, 10, 26], [24, 18, 30], [28, 21, 35], [30, 16, 34], [32, 24, 40], [35, 12, 37], [36, 15, 39], [36, 27, 45], [40, 9, 41], [40, 30, 50], [42, 40, 58], [44, 33, 55], [45, 24, 51], [45, 28, 53], [48, 14, 50], [48, 20, 52], [48, 36, 60], [52, 39, 65], [55, 48, 73], [56, 33, 65], [56, 42, 70], [60, 11, 61], [60, 25, 65], [60, 32, 68], [60, 45, 75], [63, 16, 65], [63, 60, 87], [64, 48, 80], [68, 51, 85], [70, 24, 74], [72, 21, 75], [72, 30, 78], [72, 54, 90], [72, 65, 97], [75, 40, 85], [76, 57, 95], [77, 36, 85], [80, 18, 82], [80, 39, 89], [80, 60, 100], [84, 13, 85], [84, 35, 91], [96, 28, 100]]\n"
     ]
    }
   ],
   "source": [
    "lista=[]\n",
    "for a in range(1,101):\n",
    "    for b in range(1,101):\n",
    "        for c in range(1,101):\n",
    "            if a*a+b*b==c*c:\n",
    "                if a>b:\n",
    "                    lista.append([a,b,c])\n",
    "t=lista\n",
    "print(t)"
   ]
  },
  {
   "cell_type": "markdown",
   "metadata": {},
   "source": [
    "9\\. Normalization\n",
    "\n",
    "Write a function that takes a tuple of numbers and returns it with the entries normalized to one"
   ]
  },
  {
   "cell_type": "code",
   "execution_count": 17,
   "metadata": {},
   "outputs": [
    {
     "data": {
      "text/plain": [
       "(0.01694915254237288, 0.05084745762711865, 0.11864406779661017)"
      ]
     },
     "execution_count": 17,
     "metadata": {},
     "output_type": "execute_result"
    }
   ],
   "source": [
    "t = (1,3,7)\n",
    "\n",
    "def normalize(X):\n",
    "    S=0\n",
    "    for i in range(0, len(X)):\n",
    "        S += X[i]**2\n",
    "    b=[x/S for x in X ]\n",
    "    return tuple(b)\n",
    "\n",
    "normalize(t)"
   ]
  },
  {
   "cell_type": "code",
   "execution_count": null,
   "metadata": {},
   "outputs": [],
   "source": []
  }
 ],
 "metadata": {
  "kernelspec": {
   "display_name": "Python 3",
   "language": "python",
   "name": "python3"
  },
  "language_info": {
   "codemirror_mode": {
    "name": "ipython",
    "version": 3
   },
   "file_extension": ".py",
   "mimetype": "text/x-python",
   "name": "python",
   "nbconvert_exporter": "python",
   "pygments_lexer": "ipython3",
   "version": "3.8.3"
  }
 },
 "nbformat": 4,
 "nbformat_minor": 2
}
