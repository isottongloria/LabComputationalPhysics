{
 "cells": [
  {
   "cell_type": "markdown",
   "metadata": {},
   "source": [
    "1\\. Write a function that converts number representation, bin<->dec<->hex. (Clearly using the corresponding python built-in functions is not fair..)"
   ]
  },
  {
   "cell_type": "code",
   "execution_count": 37,
   "metadata": {},
   "outputs": [
    {
     "name": "stdout",
     "output_type": "stream",
     "text": [
      "129\n"
     ]
    }
   ],
   "source": [
    "#da binario a decimale (numero must be a list)\n",
    "numero=[1, 0, 0, 0, 0, 0, 0, 1]#numero is binary and it is a list\n",
    "def bin_to_dec(n):\n",
    "    n.reverse()  #reverse numero because in a list element=0 is on the left; instead to convert the powers of 2 start from the right\n",
    "    n_dec=0\n",
    "    for i in range (len(n)):\n",
    "        n_dec+=pow(2,i)*int(n[i])  #iterate \n",
    "    return n_dec\n",
    "    \n",
    "print(bin_to_dec(numero))"
   ]
  },
  {
   "cell_type": "code",
   "execution_count": 2,
   "metadata": {},
   "outputs": [
    {
     "name": "stdout",
     "output_type": "stream",
     "text": [
      "1010\n"
     ]
    }
   ],
   "source": [
    "#da decimale a binario \n",
    "def dec_to_bin(num):\n",
    "    n=int(num)\n",
    "    resto=0\n",
    "    quoziente=1\n",
    "    num_bin=[] #creo un lista vuota da riempire con i resti\n",
    "    while quoziente>0:\n",
    "        quoziente=int(n/2)\n",
    "        resto=int(n%2)\n",
    "        num_bin.append(resto)\n",
    "        n=n/2\n",
    "    num_bin.reverse()\n",
    "    print('' ''.join(map(str, num_bin)))\n",
    "    return  \n",
    "\n",
    "dec_to_bin(10)"
   ]
  },
  {
   "cell_type": "code",
   "execution_count": 3,
   "metadata": {},
   "outputs": [
    {
     "name": "stdout",
     "output_type": "stream",
     "text": [
      "E3\n"
     ]
    }
   ],
   "source": [
    "#da decimale a esadecimale\n",
    "def dec_to_hex(num):\n",
    "    n=int(num)\n",
    "    resto=0\n",
    "    quoziente=1\n",
    "    num_hex=[] #creo un lista vuota da riempire con i resti\n",
    "    num_hex_reversed=[] #creo un lista vuota da riempire con i resti ma in ordine inverso\n",
    "    if n<16: print(n)\n",
    "    else:        \n",
    "        while quoziente>0:\n",
    "            quoziente=int(n/16)\n",
    "            resto=int(n%16)\n",
    "            if resto>9:\n",
    "                a = {10 : \"A\", 11 : \"B\", 12 : \"C\", 13 : \"D\",14 : \"E\", 15 : \"F\"} \n",
    "                num_hex.append(a[resto])\n",
    "            else : \n",
    "                num_hex.append(resto)\n",
    "            n=n/16\n",
    "    num_hex_reversed = list(reversed(num_hex))\n",
    "    print('' ''.join(map(str, num_hex_reversed)))\n",
    "    return  \n",
    "dec_to_hex(227)"
   ]
  },
  {
   "cell_type": "code",
   "execution_count": 4,
   "metadata": {},
   "outputs": [
    {
     "name": "stdout",
     "output_type": "stream",
     "text": [
      "inserisci un esadecimale: E2\n",
      "226\n"
     ]
    }
   ],
   "source": [
    "#da esadecimale a decimale\n",
    "def hex_to_dec(num):\n",
    "    n=str(num)\n",
    "    n_dec=0\n",
    "    for i in range (len(n)):\n",
    "        if n[i].isdigit():\n",
    "            n_dec+=pow(16,len(n)-i-1)*int(n[i])\n",
    "        else:\n",
    "            a = {\"A\" : 10, \"B\" : 11, \"C\"  : 12 ,\"D\"  : 13, \"E\"  : 14, \"F\"  : 15} \n",
    "            n_dec+=pow(16,len(n)-i-1)*int(a[n[i]])\n",
    "    return n_dec\n",
    "\n",
    "numero=input(\"inserisci un esadecimale: \")\n",
    "print(hex_to_dec(numero))"
   ]
  },
  {
   "cell_type": "markdown",
   "metadata": {},
   "source": [
    "2. Write a function that converts a 32 bit word into a single precision floating point (i.e. interprets the various bits as sign, mantissa and exponent)"
   ]
  },
  {
   "cell_type": "code",
   "execution_count": 46,
   "metadata": {},
   "outputs": [
    {
     "name": "stdout",
     "output_type": "stream",
     "text": [
      "[1, 1, 0, 0, 0, 0, 0, 0, 1, 0, 1, 1, 0, 0, 0, 0, 0, 0, 0, 0, 0, 0, 0, 0, 0, 0, 0, 0, 0, 0, 0, 0]\n",
      "- 5.5\n"
     ]
    }
   ],
   "source": [
    "import numpy as np\n",
    "import numpy.ma as ma\n",
    "\n",
    "#metto il mio numero in un array e poi lo maschero\n",
    "#x=input(\"inserire un numero di 32 bit in binario: \")\n",
    "#num=np.array([int(x[i]) for i in range(0,32)])\n",
    "\n",
    "num=[1,1,0,0,0,0,0,0,1,0,1,1,0,0,0,0,0,0,0,0,0,0,0,0,0,0,0,0,0,0,0,0]\n",
    "print(num)\n",
    "\n",
    "#creo le maschere per segno, exp, mantissa\n",
    "sign = ma.masked_array(num, mask=[0,1,1,1,1,1,1,1,1,1,1,1,1,1,1,1,1,1,1,1,1,1,1,1,1,1,1,1,1,1,1,1])\n",
    "exp = ma.masked_array(num, mask=[1,0,0,0,0,0,0,0,0,1,1,1,1,1,1,1,1,1,1,1,1,1,1,1,1,1,1,1,1,1,1,1])\n",
    "mantissa = ma.masked_array(num, mask=[1,1,1,1,1,1,1,1,1,0,0,0,0,0,0,0,0,0,0,0,0,0,0,0,0,0,0,0,0,0,0,0])\n",
    "\n",
    "#get only the non-masked values.\n",
    "#One can also use --> segno_arr = segno_arr[segno_arr.mask == False]\n",
    "sign=sign_masked.compressed()\n",
    "exp=exp_masked.compressed()\n",
    "mantissa=matissa_masked.compressed()\n",
    "\n",
    "#now convert rhe sign\n",
    "if sign[0]==0:\n",
    "    segno='+'\n",
    "if sign[0]==1:\n",
    "    segno='-'\n",
    "\n",
    "#now convert exp in decimal form\n",
    "def convert_exp(n):\n",
    "    n_dec=0\n",
    "    for i in range (len(n)):\n",
    "        n_dec+=pow(2,len(n)-i-1)*int(n[i])  #iterate \n",
    "    return n_dec-127\n",
    "esponente=convert_exp(exp)\n",
    "\n",
    "#now convert mantix in decimal form\n",
    "def convert_mant(n):\n",
    "    n_dec=1\n",
    "    for i in range (len(n)):\n",
    "        n_dec+=pow(2,-i-1)*int(n[i])  #iterate \n",
    "    return n_dec\n",
    "mantissa=convert_mant(mantissa)\n",
    "\n",
    "print(segno,(2**esponente)*mantissa)\n",
    "#11000000101000000000000000000000"
   ]
  },
  {
   "cell_type": "markdown",
   "metadata": {},
   "source": [
    "3. Write a program to determine the underflow and overflow limits (within a factor of 2) for python on your computer.\n",
    "\n",
    "Tips: define two variables inizialized to 1 and halve/double them enough time to exceed the under/over-flow limits\n"
   ]
  },
  {
   "cell_type": "code",
   "execution_count": null,
   "metadata": {},
   "outputs": [],
   "source": []
  },
  {
   "cell_type": "code",
   "execution_count": 44,
   "metadata": {},
   "outputs": [
    {
     "name": "stdout",
     "output_type": "stream",
     "text": [
      "+ 5.5\n"
     ]
    }
   ],
   "source": [
    "import numpy as np\n",
    "import  numpy.ma as ma\n",
    "num=[1, 1, 0, 0, 0, 0, 0, 0, 1, 0, 1, 1, 0, 0, 0, 0, 0, 0, 0, 0, 0, 0, 0, 0, 0, 0, 0, 0, 0, 0, 0, 0]\n",
    "sign_masked= ma.masked_array(num, mask=[0,1,1,1,1,1,1,1,1,1,1,1,1,1,1,1,1,1,1,1,1,1,1,1,1,1,1,1,1,1,1,1])\n",
    "exp_masked=ma.masked_array(num, mask=[1, 0, 0, 0, 0, 0, 0, 0, 0, 1, 1, 1, 1, 1, 1, 1, 1, 1, 1, 1, 1, 1, 1, 1, 1, 1, 1, 1, 1, 1, 1, 1])\n",
    "matissa_masked=ma.masked_array(num, mask=[1, 1, 1, 1, 1, 1, 1, 1, 1, 0, 0, 0, 0, 0, 0, 0, 0, 0, 0, 0, 0, 0, 0, 0, 0, 0, 0, 0, 0, 0, 0, 0])\n",
    "\n",
    "sign=sign_masked.compressed()\n",
    "exp=exp_masked.compressed()\n",
    "mantissa=matissa_masked.compressed()\n",
    "\n",
    "if sign[0]==0:\n",
    "    segno='-'\n",
    "elif sign[0]==1:\n",
    "    segno='+'\n",
    "\n",
    "\n",
    "def exp_converter(exp):\n",
    "    x=0\n",
    "    for i in range(len(exp)):\n",
    "        x+=exp[i]*pow(2,len(exp)-1-i)\n",
    "    return x-127\n",
    "esponente= exp_converter(exp)\n",
    "\n",
    "\n",
    "def mantissa_converter(mantissa):\n",
    "    x=1\n",
    "    for i in range(len(mantissa)):\n",
    "        x+=mantissa[i]*pow(2,-1-i)\n",
    "    return x\n",
    "mantissa=mantissa_converter(mantissa)\n",
    "print(segno,(2**esponente)*mantissa)"
   ]
  },
  {
   "cell_type": "code",
   "execution_count": 51,
   "metadata": {},
   "outputs": [
    {
     "name": "stdout",
     "output_type": "stream",
     "text": [
      "5e-324\n",
      "8.98846567431158e+307\n"
     ]
    }
   ],
   "source": [
    "underflow=1\n",
    "while underflow !=0:\n",
    "    if underflow/2. == 0:\n",
    "        print(underflow) \n",
    "    underflow=underflow/2\n",
    "  \n",
    "    \n",
    "overflow=1\n",
    "while overflow<float('inf'):\n",
    "    if overflow*2 == float('inf'):\n",
    "        print(overflow)\n",
    "    overflow*=2."
   ]
  },
  {
   "cell_type": "markdown",
   "metadata": {},
   "source": [
    "4. Write a program to determine the machine precision\n",
    "\n",
    "Tips: define a new variable by adding a smaller and smaller value (proceeding similarly to prob. 2) to an original variable and check the point where the two are the same\n"
   ]
  },
  {
   "cell_type": "code",
   "execution_count": 52,
   "metadata": {},
   "outputs": [
    {
     "name": "stdout",
     "output_type": "stream",
     "text": [
      "0.0 \t 0 325\n",
      "The precision is  10^ -324\n"
     ]
    }
   ],
   "source": [
    "var=0\n",
    "new_var=2  #to begin the cycle\n",
    "i=1\n",
    "while var<new_var:\n",
    "    new_var=10**(-i)\n",
    "    i+=1\n",
    "print(new_var, \"\\t\", var,i)\n",
    "print(\"The precision is \", \"10^\", -i+1)"
   ]
  },
  {
   "cell_type": "markdown",
   "metadata": {},
   "source": [
    "5. Write a function that takes in input three parameters 𝑎, 𝑏 and 𝑐 and prints out the two solutions to the quadratic equation 𝑎𝑥2+𝑏𝑥+𝑐=0 using the standard formula:\n",
    "$$\n",
    "x=\\frac{-b\\pm\\sqrt{b^2-4ac}}{2a}\n",
    "$$\n",
    "\n",
    "(a) use the program to compute the solution for $a=0.001$, $b=1000$ and $c=0.001$\n",
    "\n",
    "(b) re-express the standard solution formula by multiplying top and bottom by $-b\\mp\\sqrt{b^2-4ac}$ and again find the solution for $a=0.001$, $b=1000$ and $c=0.001$. How does it compare with what previously obtained? Why?\n",
    "\n",
    "(c) write a function that compute the roots of a quadratic equation accurately in all cases"
   ]
  },
  {
   "cell_type": "code",
   "execution_count": 88,
   "metadata": {},
   "outputs": [
    {
     "data": {
      "text/plain": [
       "(-0.25, 0.4330127018922193)"
      ]
     },
     "execution_count": 88,
     "metadata": {},
     "output_type": "execute_result"
    }
   ],
   "source": [
    "#c alternativa\n",
    "import math\n",
    "def fun_A(a,b,c):\n",
    "    d=b*b-4*a*c\n",
    "    x1=-b/(2*a)\n",
    "    if d==0:\n",
    "        return (x1,x1)\n",
    "    elif d>0:  \n",
    "        x2=math.sqrt(d)/(2*a)\n",
    "        return(x1+x2,x1-x2)\n",
    "    else:\n",
    "        x3=math.sqrt(abs(d))/(2*a)\n",
    "        return(x1,x3)\n",
    "fun_A(4,2,1)\n"
   ]
  },
  {
   "cell_type": "code",
   "execution_count": 72,
   "metadata": {},
   "outputs": [
    {
     "name": "stdout",
     "output_type": "stream",
     "text": [
      "(498999.999999, -500999.999999)\n",
      "(1000010.5755125057, 1.000000000001e-06)\n",
      "Roots are complex \n",
      "\n",
      "-0.041666666666666664  + i 0.28565227501671014 \n",
      "\n",
      "-0.041666666666666664  - i 0.28565227501671014 \n",
      "\n",
      "None\n"
     ]
    }
   ],
   "source": [
    "#(a)\n",
    "def funzione(a,b,c):\n",
    "    xp =(-b+pow(b*b-4*a*c,0.5)/(2*a))\n",
    "    xm = (-b-pow(b*b-4*a*c,0.5)/(2*a))\n",
    "    return  (xp,xm) \n",
    "print(funzione(0.001,1000,0.001))\n",
    "\n",
    "#(b)\n",
    "def funzione_b(a,b,c):\n",
    "    xp = (-2*c)/(-b+pow(b*b-4*a*c,0.5))\n",
    "    xm= (-2*c)/(-b-pow(b*b-4*a*c,0.5))\n",
    "    return (xp,xm) \n",
    "print(funzione_b(0.001,1000,0.001))\n",
    "\n",
    "#(c)\n",
    "import math  #per usare sqrt(x) e abs\n",
    "\n",
    "def funzione_c(a,b,c):\n",
    "    d = b*b - 4*a*c\n",
    "    x1= -b/(2*a)\n",
    "    x2= math.sqrt(abs(d))/(2*a)\n",
    "    if (d > 0):\n",
    "        print(\"Roots are real and different \")\n",
    "        print((x1+x2), \" \", (x1-x2))\n",
    "    \n",
    "    elif (d == 0):\n",
    "        print(\"Roots are real and same \\n\")\n",
    "        print(-b / (2 * a))\n",
    "    \n",
    "    else:\n",
    "            print(\"Roots are complex \\n\")\n",
    "            print(-b / (2 * a), \" + i\", math.sqrt(abs(d)) / (2 * a) ,\"\\n\")\n",
    "            print(-b / (2 * a), \" - i\", math.sqrt(abs(d)) / (2 * a) ,\"\\n\")\n",
    "    return\n",
    "print(funzione_c(12,1,1))"
   ]
  },
  {
   "cell_type": "markdown",
   "metadata": {},
   "source": [
    "6\\. Write a program that implements the function $f(x)=x(x−1)$\n",
    "\n",
    "(a) Calculate the derivative of the function at the point $x = 1$ using the derivative definition:\n",
    "\n",
    "$$\n",
    "\\frac{{\\rm d}f}{{\\rm d}x} = \\lim_{\\delta\\to0} \\frac{f(x+\\delta)-f(x)}{\\delta}\n",
    "$$\n",
    "\n",
    "with $\\delta = 10^{−2}$. Calculate the true value of the same derivative analytically and compare with the answer your program gives. The two will not agree perfectly. Why not?\n",
    "\n",
    "(b) Repeat the calculation for $\\delta = 10^{−4}, 10^{−6}, 10^{−8}, 10^{−10}, 10^{−12}$ and $10^{−14}$. How does the accuracy scales with $\\delta$?"
   ]
  },
  {
   "cell_type": "code",
   "execution_count": 107,
   "metadata": {},
   "outputs": [
    {
     "name": "stdout",
     "output_type": "stream",
     "text": [
      "the derivative of  f at the point 𝑥=1 using the derivative definition is: 1.010000000000001\n",
      "the derivative of f at the point 𝑥=1 using the analytic definition is: 1\n",
      "[0.010000000000000897, 9.999999988985486e-05, 9.99917733279787e-07, 3.922528746258536e-09, 8.284037100736441e-08, 8.890058334132256e-05, -0.0007992778373491216]\n"
     ]
    },
    {
     "data": {
      "image/png": "[encoded data removed]",
      "text/plain": [
       "<Figure size 432x288 with 1 Axes>"
      ]
     },
     "metadata": {
      "needs_background": "light"
     },
     "output_type": "display_data"
    }
   ],
   "source": [
    "#implements the function f(x)=x(x−1)\n",
    "def f(x):\n",
    "    return x*(x-1)\n",
    "\n",
    "#a\n",
    "d=10**(-2)\n",
    "def Df(x,d):\n",
    "    return (f(x+d)-f(x))/d\n",
    "\n",
    "def Df_analytic(x):\n",
    "    return 2*x-1\n",
    "print(\"the derivative of  f at the point 𝑥=1 using the derivative definition is:\", Df(1,d))\n",
    "print(\"the derivative of f at the point 𝑥=1 using the analytic definition is:\", Df_analytic(1))\n",
    "\n",
    "\n",
    "#b\n",
    "d_list=[10**(-2),10**(-4),10**(-6),10**(-8),10**(-10),10**(-12),10**(-14)]\n",
    "Df_list=[Df(1,d)-1 for d in d_list] #l'1 è perchè il Df_analitico=1\n",
    "print(Df_list)\n",
    "\n",
    "import matplotlib.pyplot as plt \n",
    "plt.plot(d_list,Df_list,'.')\n",
    "plt.yscale(\"log\")\n",
    "plt.xscale(\"log\")\n",
    "plt.show()"
   ]
  },
  {
   "cell_type": "markdown",
   "metadata": {},
   "source": [
    "7\\. Consider the integral of the semicircle of radius 1:\n",
    "$$\n",
    "I=\\int_{-1}^{1} \\sqrt(1-x^2) {\\rm d}x\n",
    "$$\n",
    "which it's known to be $I=\\frac{\\pi}{2}=1.57079632679...$.\n",
    "Alternatively we can use the Riemann definition of the integral:\n",
    "$$\n",
    "I=\\lim_{N\\to\\infty} \\sum_{k=1}^{N} h y_k \n",
    "$$\n",
    "\n",
    "with $h=2/N$ the width of each of the $N$ slices the domain is divided into and where\n",
    "$y_k$ is the value of the function at the $k-$th slice.\n",
    "\n",
    "(a) Write a programe to compute the integral with $N=100$. How does the result compares to the true value?\n",
    "\n",
    "(b) How much can $N$ be increased if the computation needs to be run in less than a second? What is the gain in running it for 1 minute? \n"
   ]
  },
  {
   "cell_type": "code",
   "execution_count": 126,
   "metadata": {},
   "outputs": [
    {
     "name": "stdout",
     "output_type": "stream",
     "text": [
      "the result of the integral with 100-slice is: 1.5691342555492505\n",
      "3200000\n"
     ]
    }
   ],
   "source": [
    "#a\n",
    "import math \n",
    "N=100\n",
    "h=2/N\n",
    "I=0 #sarà il risultato dell'integrale\n",
    "for k in range(1,N+1):  #k=indice di slice\n",
    "    x=-1+k*h  #posizione sull'asse x\n",
    "    I+= math.sqrt(1-x**2)*h  #base per altezza..\n",
    "print(\"the result of the integral with 100-slice is:\", I)\n",
    "\n",
    "\n",
    "#b\n",
    "def integrate(N):\n",
    "    h=2/N\n",
    "    I=0 #sarà il risultato dell'integrale\n",
    "    for k in range(1,N+1):  #k=indice di slice\n",
    "        x=-1+k*(2/N)\n",
    "        I+= math.sqrt(1-x**2)*h\n",
    "    return I\n",
    "\n",
    "import time\n",
    "start=0\n",
    "end=0\n",
    "N=2000000\n",
    "while end-start<1:\n",
    "    start = time.time()\n",
    "    integrate(N)\n",
    "    end=time.time()\n",
    "    N+=100000\n",
    "print(N)\n"
   ]
  },
  {
   "cell_type": "code",
   "execution_count": 130,
   "metadata": {},
   "outputs": [
    {
     "name": "stdout",
     "output_type": "stream",
     "text": [
      "1.5691342555492505\n",
      "3000000\n"
     ]
    }
   ],
   "source": [
    "#VERIFICA\n",
    "import math\n",
    "import time\n",
    "\n",
    "#a)\n",
    "def rieman_int(N):\n",
    "    h=2/N\n",
    "    I=0\n",
    "    for k in range(1,N+1,1):\n",
    "        I += math.sqrt(1-pow(-1+k*h,2))*h\n",
    "    return I\n",
    "\n",
    "N=100\n",
    "print(rieman_int(N))\n",
    "\n",
    "#b)\n",
    "end=0\n",
    "start=0\n",
    "N=2000000\n",
    "while (end-start)<1:\n",
    "    start= time.time()\n",
    "    rieman_int(N)\n",
    "    end= time.time()\n",
    "    N+=100000\n",
    "print(N)"
   ]
  },
  {
   "cell_type": "code",
   "execution_count": null,
   "metadata": {},
   "outputs": [],
   "source": []
  }
 ],
 "metadata": {
  "kernelspec": {
   "display_name": "Python 3",
   "language": "python",
   "name": "python3"
  },
  "language_info": {
   "codemirror_mode": {
    "name": "ipython",
    "version": 3
   },
   "file_extension": ".py",
   "mimetype": "text/x-python",
   "name": "python",
   "nbconvert_exporter": "python",
   "pygments_lexer": "ipython3",
   "version": "3.8.3"
  }
 },
 "nbformat": 4,
 "nbformat_minor": 4
}
